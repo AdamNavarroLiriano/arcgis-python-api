{
 "cells": [
  {
   "cell_type": "markdown",
   "metadata": {},
   "source": [
    "# Automatic Identification of Natural Disasters from Satellite Images"
   ]
  },
  {
   "cell_type": "markdown",
   "metadata": {},
   "source": [
    "Local, States, National or even foreign governments need support as to implement short-term emergency response, and long-term hazard mitigation measures at the occurrences of natural disaster such as tropical cyclones, wildfires, earthquakes, etc. The sample notebook takes advantage of [NASA's Earth Observatory Natural Event Tracker (EONET) API](https://eonet.sci.gsfc.nasa.gov/eonet-project) to collect a curated source of continuously updated natural event metadata, then creates [FeatureCollection(s)](https://esri.github.io/arcgis-python-api/apidoc/html/arcgis.features.toc.html#featurecollection) based on the descriptions and geo-information provided in the metadata feed for each type of the natural disasters, and saves into a Web Map item on the targeted GIS connection. \n",
    "\n",
    "In the meantime, with the temporal and geospatial information of the event occurrence, this sample goes on to query the before- and after- disaster satellite images of the prone areas, and add as overlay layers besides the FeatureCollection generated at the first step. The differences between the two temporal conditions can be collected for training dataset, and hence when there are sufficient of these images (or labels), we can build a model to identify from the satellite images if there is a natural disaster (e.g. tropical cyclone).\n",
    "\n",
    "With the sample notebook run in a scheduled routine, there will be a latest web map that contains the up-to-date list of natural  disaster occurrences in your organization always."
   ]
  },
  {
   "cell_type": "markdown",
   "metadata": {},
   "source": [
    "## Step 1. Pre-requisites\n",
    "In order to access the Land Remote-Sensing Satellite (System) (in short, Landsat) dataset, the first step is to connect to ArcGIS Online organization since `esri livingatlas` provided a series of good-to-use Landsat products in forms of imagery layers ready for query, visualization and analysis. Then to create another GIS class object for an ArcGIS Enterprise deployment in case that you want to save the target web map in a different destination than ArcGIS Online."
   ]
  },
  {
   "cell_type": "code",
   "execution_count": 8,
   "metadata": {},
   "outputs": [],
   "source": [
    "from arcgis.gis import GIS\n",
    "gis = GIS('https://www.arcgis.com',\"arcgis_python\",\"P@ssword123\")\n",
    "portal_gis = GIS('https://datascienceqa.esri.com/portal','portaladmin','esri.agp')\n",
    "# portal_gis = GIS('https://pythonapi.playground.esri.com/portal','arcgis_python','amazing_arcgis_123')"
   ]
  },
  {
   "cell_type": "markdown",
   "metadata": {},
   "source": [
    "The `exact_search` method here is to start a search based on title, owner and item type, then use a for loop to traverse all the query results in order to get an exact match that has the desired title and item type. It can be used in place of the generic `search` method so you do not need to specify the index of the desired imagery layery among all the search results. As seen here, the output of the `exact search` is a Imagery Layer item titled `\"Multispectral Landsat\"`."
   ]
  },
  {
   "cell_type": "code",
   "execution_count": 9,
   "metadata": {},
   "outputs": [
    {
     "data": {
      "text/html": [
       "<div class=\"item_container\" style=\"height: auto; overflow: hidden; border: 1px solid #cfcfcf; border-radius: 2px; background: #f6fafa; line-height: 1.21429em; padding: 10px;\">\n",
       "                    <div class=\"item_left\" style=\"width: 210px; float: left;\">\n",
       "                       <a href='https://geosaurus.maps.arcgis.com/home/item.html?id=d9b466d6a9e647ce8d1dd5fe12eb434b' target='_blank'>\n",
       "                        <img src='data:image/png;base64,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' width='200' height='133' class=\"itemThumbnail\">\n",
       "                       </a>\n",
       "                    </div>\n",
       "\n",
       "                    <div class=\"item_right\"     style=\"float: none; width: auto; overflow: hidden;\">\n",
       "                        <a href='https://geosaurus.maps.arcgis.com/home/item.html?id=d9b466d6a9e647ce8d1dd5fe12eb434b' target='_blank'><b>Multispectral Landsat</b>\n",
       "                        </a>\n",
       "                        <br/>Landsat 8 OLI, 30m multispectral and multitemporal 8-band imagery, with on-the-fly renderings and indices.  This imagery layer is sourced from the Landsat on AWS collections and is updated daily with new imagery.<img src='https://geosaurus.maps.arcgis.com/home/js/jsapi/esri/css/images/item_type_icons/imagery16.png' style=\"vertical-align:middle;\">Imagery Layer by esri\n",
       "                        <br/>Last Modified: May 03, 2018\n",
       "                        <br/>0 comments, 128,509 views\n",
       "                    </div>\n",
       "                </div>\n",
       "                "
      ],
      "text/plain": [
       "<Item title:\"Multispectral Landsat\" type:Imagery Layer owner:esri>"
      ]
     },
     "execution_count": 9,
     "metadata": {},
     "output_type": "execute_result"
    }
   ],
   "source": [
    "def exact_search(my_gis, title, owner_value, item_type_value):\n",
    "    final_match = None\n",
    "    search_result = my_gis.content.search(query= title + ' AND owner:' + owner_value, item_type=item_type_value, outside_org=True)\n",
    "    \n",
    "    if \"Imagery Layer\" in item_type_value:\n",
    "        item_type_value = item_type_value.replace(\"Imagery Layer\", \"Image Service\")\n",
    "    elif \"Layer\" in item_type_value:\n",
    "        item_type_value = item_type_value.replace(\"Layer\", \"Service\")\n",
    "    \n",
    "    for result in search_result:\n",
    "        if result.title == title:\n",
    "            final_match = result\n",
    "            break\n",
    "    return final_match\n",
    "\n",
    "landsat_item = exact_search(gis, 'Multispectral Landsat', 'esri', 'Imagery Layer')\n",
    "landsat = landsat_item.layers[0]\n",
    "landsat_item"
   ]
  },
  {
   "cell_type": "markdown",
   "metadata": {},
   "source": [
    "The Python API also supports specifying Javascript renderers via `autocasting`. This Python API displays maps in a Jupyter notebook by leveraging the ArcGIS API for JavaScript. By specifying `\"renderer\": \"autocast\"` for any renderer, you are directing Python to allow the Javascript API to attempt to infer the renderer by following Javascript API rules. Besides using `add_layer(...)` method to add the newly created feature class or feature service into map view (using renderer JSON in the parameter), you can also use `draw(...)` method with symbol and pop-up specified in the arguments list. \n",
    "\n",
    "Renderer or Symbol JSON for different natural disasters are defined here as entries for dictionary objects (e.g. `symbol_doct` or `renderer_dict`).\n",
    "\n",
    "Sample symbol JSONs can be generated from [Symbol Marker](http://esri.github.io/arcgis-python-api/tools/symbol)."
   ]
  },
  {
   "cell_type": "code",
   "execution_count": 10,
   "metadata": {},
   "outputs": [],
   "source": [
    "# Symbol of Tropical Cyclone\n",
    "symbol_storm = {\"angle\":0,\"xoffset\":0,\"yoffset\":0,\n",
    "                \"type\":\"esriPMS\",\n",
    "                \"url\":\"http://static.arcgis.com/images/Symbols/OutdoorRecreation/Lightning.png\",\n",
    "                \"contentType\":\"image/png\",\n",
    "                \"width\":24,\"height\":24\n",
    "               }\n",
    "renderer_storm = {\"renderer\": \"autocast\",\n",
    "                  \"type\":\"simple\",\n",
    "                  \"symbol\": symbol_storm\n",
    "                 }\n",
    "\n",
    "# Symbol of Wildfires\n",
    "symbol_wildfire = { \"angle\":0,\"xoffset\":0,\"yoffset\":0,\n",
    "                    \"type\":\"esriPMS\",\n",
    "                    \"url\":\"https://static.arcgis.com/images/Symbols/NPS/Campfire_1.png\",\n",
    "                    \"contentType\":\"image/png\",\n",
    "                    \"width\":24,\"height\":24\n",
    "                   }\n",
    "renderer_wildfire = {\"renderer\": \"autocast\",\n",
    "                     \"type\": \"simple\",\n",
    "                     \"symbol\": symbol_wildfire\n",
    "                    }\n",
    "\n",
    "# Symbol of volcano eruption\n",
    "symbol_volcano = { \"angle\":0,\"xoffset\":0,\"yoffset\":0,\n",
    "                   \"type\":\"esriPMS\",\n",
    "                   \"url\":\"https://static.arcgis.com/images/Symbols/NPS/Grill.png\",\n",
    "                   \"contentType\":\"image/png\",\n",
    "                   \"width\":24,\"height\":24\n",
    "                  }\n",
    "renderer_volcano = {\"renderer\": \"autocast\",\n",
    "                    \"type\": \"simple\",\n",
    "                    \"symbol\": symbol_volcano\n",
    "                    }\n",
    "\n",
    "# Symbol of Iceberg\n",
    "symbol_iceberg = {\"angle\":0,\"xoffset\":0,\"yoffset\":0,\n",
    "                  \"type\":\"esriPMS\",\n",
    "                  \"url\":\"https://static.arcgis.com/images/Symbols/NPS/Ice_1.png\",\n",
    "                  \"contentType\":\"image/png\",\n",
    "                  \"width\":24,\"height\":24\n",
    "                 }\n",
    "renderer_iceberg = {\"renderer\": \"autocast\",\n",
    "                    \"type\": \"simple\",\n",
    "                    \"symbol\": symbol_iceberg\n",
    "                    }\n",
    "\n",
    "# dictionary objects\n",
    "symbol_dict = {\n",
    "    \"Tropical Cyclone\": symbol_storm,\n",
    "    \"Wildfires\": symbol_wildfire,\n",
    "    \"Volcano\": symbol_volcano,\n",
    "    \"Iceberg\": symbol_iceberg\n",
    "}\n",
    "renderer_dict = {\n",
    "    \"Tropical Cyclone\": renderer_storm,\n",
    "    \"Wildfires\": renderer_wildfire,\n",
    "    \"Volcano\": renderer_volcano,\n",
    "    \"Iceberg\": renderer_iceberg\n",
    "}"
   ]
  },
  {
   "cell_type": "markdown",
   "metadata": {},
   "source": [
    "## Step 2. Define functions of your own\n",
    "The sample would require three user-defined functions to: a. parse the metadata feed (in GeoJSON) and create one FeatureClass per event, and add the FeatureClass to a map, b. obtain the temporal range and the spatial boundingbox of the FeatureClass, perform `filter_by(...)` to the landsat imagery layer with the criteria, and add the before- and after- disaster imageries to the map, and c. store the current map as web map."
   ]
  },
  {
   "cell_type": "markdown",
   "metadata": {},
   "source": [
    "In the `filter_images` method defined below, given the temporal range and the spatial boundingbox of the FeatureClass, `filter_by(...)` is performed to the landsat imagery layer with the criteria, and when one or more mosiac tiles meet the requirements, get the `mean` of these tiles and add to current map."
   ]
  },
  {
   "cell_type": "code",
   "execution_count": 11,
   "metadata": {},
   "outputs": [],
   "source": [
    "import pandas as pd\n",
    "import arcgis\n",
    "from arcgis import geometry\n",
    "from arcgis.geometry import Geometry\n",
    "import datetime as dt\n",
    "\n",
    "def filter_images(fc, my_map, start_datetime, end_datetime):\n",
    "    \n",
    "    geom_obj = Geometry(fc.properties.layerDefinition.extent)\n",
    "    selected = landsat.filter_by(where=\"(Category = 1) AND (CloudCover <=0.2)\",\n",
    "                                 time=[start_datetime, end_datetime],\n",
    "                                 geometry=geometry.filters.intersects(geom_obj))\n",
    "    print(\"Applicable lockRasterIds=\", selected._mosaic_rule.get(\"lockRasterIds\"))\n",
    "    \n",
    "    if not selected._mosaic_rule.get(\"lockRasterIds\"):\n",
    "        return None\n",
    "    else:\n",
    "        date_title_from = start_datetime.strftime(\"%m/%d/%Y\")\n",
    "        date_title_to = end_datetime.strftime(\"%m/%d/%Y\")\n",
    "        extents = fc.properties.layerDefinition.extent\n",
    "        extents_str = \",\".join(format(x, \"10.3f\") for x in [extents['xmin'],extents['ymin'],extents['xmax'], extents['ymax']])\n",
    "\n",
    "        my_map.add_layer(selected.mean(), {\"title\": date_title_from + \" to \" + date_title_to + \" at [\" + extents_str + \"]\"})\n",
    "\n",
    "        fs = selected.query(out_fields=\"AcquisitionDate, GroupName, Month, DayOfYear, WRS_Row, WRS_Path\")\n",
    "        tdf = fs.sdf  \n",
    "        print(tdf.shape)\n",
    "        return tdf"
   ]
  },
  {
   "cell_type": "markdown",
   "metadata": {},
   "source": [
    "Next, the `create_all_fs_from_json` method sends a request to the API's feed URL, reads the response into json object, and then has all events in the feed json traversed to check for the disaster type, geolocation and descriptions of each event. These information will be used to create a FeatureClass for each event in `portal_gis` which can be then added to the current map. When the `save_to_fc` boolean is True, the function will then save each feature class into an individual FeatureCollection item on the enterprise; when the `add_Landsat` boolean is True, the function will automatically invoke `filter_images` to get the before- and after- disaster satellite images to the map."
   ]
  },
  {
   "cell_type": "code",
   "execution_count": 12,
   "metadata": {},
   "outputs": [],
   "source": [
    "import json\n",
    "import requests\n",
    "import traceback\n",
    "from arcgis.features import Feature, FeatureSet\n",
    "\n",
    "def create_all_fs_from_json(url, disaster_type, add_to_map=None, \n",
    "                            use_default_symbol = True, save_to_fc = False, add_Landsat = False):\n",
    "    response = requests.get(url)\n",
    "    json_data = json.loads(response.text)\n",
    "    item_list = []\n",
    "\n",
    "    for event in json_data[\"events\"]:\n",
    "        if disaster_type in event[\"title\"]:\n",
    "            \n",
    "            try:\n",
    "                print(event[\"title\"], event[\"link\"])\n",
    "                resp_event = requests.get(event[\"link\"])\n",
    "                json_event = json.loads(resp_event.text)\n",
    "                r = json.dumps(json_event[\"geometries\"])\n",
    "                df = pd.read_json(r, orient=\",\")\n",
    "                df[['coordinates_x', 'coordinates_y']] = pd.DataFrame(df['coordinates'].tolist(), index=df.index)\n",
    "                fc = portal_gis.content.import_data(df, locationtype=\"coordinates\",\n",
    "                                        longitude_field=\"coordinates_x\",latitude_field=\"coordinates_y\")\n",
    "                if add_to_map is not None:\n",
    "                    if use_default_symbol:\n",
    "                        \"\"\" Add_layer() used directly\n",
    "                        # option_dict = {\"title\": event[\"title\"]}\n",
    "                        # option_dict.update(renderer_dict[disaster_type])\n",
    "                        # add_to_map.add_layer(fc, option_dict)\n",
    "\n",
    "                        # add_to_map.add_layer(fc, renderer_dict[disaster_type])\n",
    "\n",
    "                        # add_to_map.add_layer(fc, {\"title\": event[\"title\"], \"renderer\": renderer_dict[disaster_type]})\n",
    "                        \"\"\"\n",
    "                        add_to_map.add_layer(fc, {\"title\": event[\"title\"]})\n",
    "                    else:\n",
    "                        \"\"\" draw(...) to add sketch item to map\n",
    "                        \"\"\"\n",
    "                        f_list = []\n",
    "                        for feature in fc.properties.featureSet.features:\n",
    "                            f1 = Feature(geometry={'x': feature.geometry[\"x\"],\n",
    "                                                   'y': feature.geometry[\"y\"]})\n",
    "                            f_list.append(f1)\n",
    "                        fset = FeatureSet(f_list, geometry_type='esriGeometryPoint', \n",
    "                                          spatial_reference={'latestWkid': 3857})\n",
    "                        add_to_map.draw(fset, symbol=symbol_dict[disaster_type], attributes={\"title\": event[\"title\"]})\n",
    "                    \n",
    "                    print(event[\"title\"], event[\"link\"], \"... FC Added\")\n",
    "                if save_to_fc:\n",
    "                    item_properties = {\n",
    "                        \"title\": json_event[\"title\"],\n",
    "                        \"tags\" : disaster_type,\n",
    "                        \"snippet\": json_event[\"categories\"][0]['title'],\n",
    "                        \"description\": json_event[\"sources\"][0]['url'],\n",
    "                        \"text\": json.dumps({\"featureCollection\": {\"layers\": [dict(fc.layer)]}}),\n",
    "                        \"type\": \"Feature Collection\",\n",
    "                        \"typeKeywords\": \"Data, Feature Collection, Singlelayer\"\n",
    "                    }\n",
    "                    item = portal_gis.content.add(item_properties)\n",
    "                    item_list.append(item.itemid)\n",
    "                \n",
    "                \n",
    "                if (add_to_map is not None) and add_Landsat:\n",
    "                    datetime_object = dt.datetime.strptime(json_event[\"geometries\"][0]['date'], '%Y-%m-%dT%H:%M:%SZ')\n",
    "                    start_datetime = datetime_object - dt.timedelta(days=63)\n",
    "                    end_datetime = datetime_object - dt.timedelta(days=21)\n",
    "                    tdf = filter_images(fc, add_to_map, start_datetime, end_datetime)\n",
    "                    if tdf is not None:\n",
    "                        tdf.head()\n",
    "                    \n",
    "                    start_datetime = datetime_object - dt.timedelta(days=21)\n",
    "                    end_datetime = datetime_object + dt.timedelta(days=21)\n",
    "                    tdf = filter_images(fc, add_to_map, start_datetime, end_datetime)\n",
    "                    if tdf is not None:\n",
    "                        tdf.head()\n",
    "\n",
    "            except Exception:\n",
    "                print(traceback.format_exc())\n",
    "                print(event[\"title\"], event[\"link\"], \"... Skipped\")\n",
    "    return item_list"
   ]
  },
  {
   "cell_type": "markdown",
   "metadata": {},
   "source": [
    "And `create_wm_from_list(...)` can be used to create a web map from a list of FeatureCollection items."
   ]
  },
  {
   "cell_type": "code",
   "execution_count": 13,
   "metadata": {},
   "outputs": [],
   "source": [
    "from arcgis.mapping import WebMap\n",
    "\n",
    "def create_wm_from_list(fc_list, disaster_type, wm_item = None):\n",
    "    if wm_item is None:\n",
    "        wm = WebMap()\n",
    "    else:\n",
    "        wm = WebMap(wm_item)\n",
    "\n",
    "    for fc in fc_list:\n",
    "        new_item= portal_gis.content.search(fc)[0]\n",
    "        wm.add_layer(new_item, options={'title':disaster_type})\n",
    "\n",
    "    web_map_properties = {'title':disaster_type + \" WM\",\n",
    "                         'snippet':'This web map contains multiple '+ disaster_type + ' FS',\n",
    "                         'tags':'ArcGIS Python API'}\n",
    "\n",
    "    # Call the save() with web map item's properties.\n",
    "    web_map_item = wm.save(item_properties=web_map_properties)\n",
    "    return web_map_item"
   ]
  },
  {
   "cell_type": "markdown",
   "metadata": {},
   "source": [
    "For example, a simple usage of `create_all_fs_from_json` is shown below to create a web map containing recent volano eruptions as FeatureCollection objects."
   ]
  },
  {
   "cell_type": "code",
   "execution_count": 13,
   "metadata": {},
   "outputs": [
    {
     "name": "stdout",
     "output_type": "stream",
     "text": [
      "Iceberg B38 https://eonet.sci.gsfc.nasa.gov/api/v2.1/events/EONET_4129\n"
     ]
    },
    {
     "name": "stderr",
     "output_type": "stream",
     "text": [
      "Internal Server Error\n"
     ]
    },
    {
     "name": "stdout",
     "output_type": "stream",
     "text": [
      "Traceback (most recent call last):\n",
      "  File \"<ipython-input-9-8b1ae623a477>\", line 23, in create_all_fs_from_json\n",
      "    longitude_field=\"coordinates_x\",latitude_field=\"coordinates_y\")\n",
      "  File \"E:\\Repos\\geosaurus\\src\\arcgis\\gis\\__init__.py\", line 4004, in import_data\n",
      "    res = self._portal.con.post(path, postdata)#, use_ordered_dict=True) - OrderedDict >36< PropertyMap\n",
      "  File \"E:\\Repos\\geosaurus\\src\\arcgis\\_impl\\connection.py\", line 1167, in post\n",
      "    self._handle_json_error(resp_json['error'], errorcode)\n",
      "  File \"E:\\Repos\\geosaurus\\src\\arcgis\\_impl\\connection.py\", line 1188, in _handle_json_error\n",
      "    raise RuntimeError(errormessage)\n",
      "RuntimeError: Internal Server Error\n",
      "(Error Code: 500)\n",
      "\n",
      "Iceberg B38 https://eonet.sci.gsfc.nasa.gov/api/v2.1/events/EONET_4129 ... Skipped\n",
      "Iceberg B39 https://eonet.sci.gsfc.nasa.gov/api/v2.1/events/EONET_4130\n",
      "Iceberg B39 https://eonet.sci.gsfc.nasa.gov/api/v2.1/events/EONET_4130 ... FC Added\n",
      "Iceberg B40 https://eonet.sci.gsfc.nasa.gov/api/v2.1/events/EONET_4131\n",
      "Iceberg B40 https://eonet.sci.gsfc.nasa.gov/api/v2.1/events/EONET_4131 ... FC Added\n",
      "Iceberg B45 https://eonet.sci.gsfc.nasa.gov/api/v2.1/events/EONET_4132\n",
      "Iceberg B45 https://eonet.sci.gsfc.nasa.gov/api/v2.1/events/EONET_4132 ... FC Added\n",
      "Iceberg C18B https://eonet.sci.gsfc.nasa.gov/api/v2.1/events/EONET_4133\n",
      "Iceberg C18B https://eonet.sci.gsfc.nasa.gov/api/v2.1/events/EONET_4133 ... FC Added\n",
      "Iceberg C24 https://eonet.sci.gsfc.nasa.gov/api/v2.1/events/EONET_4134\n",
      "Iceberg C24 https://eonet.sci.gsfc.nasa.gov/api/v2.1/events/EONET_4134 ... FC Added\n",
      "Iceberg C29 https://eonet.sci.gsfc.nasa.gov/api/v2.1/events/EONET_4135\n",
      "Iceberg C29 https://eonet.sci.gsfc.nasa.gov/api/v2.1/events/EONET_4135 ... FC Added\n",
      "Iceberg C30 https://eonet.sci.gsfc.nasa.gov/api/v2.1/events/EONET_4136\n",
      "Iceberg C30 https://eonet.sci.gsfc.nasa.gov/api/v2.1/events/EONET_4136 ... FC Added\n",
      "Iceberg C31 https://eonet.sci.gsfc.nasa.gov/api/v2.1/events/EONET_4137\n",
      "Iceberg C31 https://eonet.sci.gsfc.nasa.gov/api/v2.1/events/EONET_4137 ... FC Added\n",
      "Iceberg C32 https://eonet.sci.gsfc.nasa.gov/api/v2.1/events/EONET_4138\n",
      "Iceberg C32 https://eonet.sci.gsfc.nasa.gov/api/v2.1/events/EONET_4138 ... FC Added\n",
      "Iceberg C33 https://eonet.sci.gsfc.nasa.gov/api/v2.1/events/EONET_4139\n",
      "Iceberg C33 https://eonet.sci.gsfc.nasa.gov/api/v2.1/events/EONET_4139 ... FC Added\n",
      "Iceberg C35 https://eonet.sci.gsfc.nasa.gov/api/v2.1/events/EONET_4140\n",
      "Iceberg C35 https://eonet.sci.gsfc.nasa.gov/api/v2.1/events/EONET_4140 ... FC Added\n",
      "Iceberg D21B https://eonet.sci.gsfc.nasa.gov/api/v2.1/events/EONET_4141\n",
      "Iceberg D21B https://eonet.sci.gsfc.nasa.gov/api/v2.1/events/EONET_4141 ... FC Added\n",
      "Iceberg D22 https://eonet.sci.gsfc.nasa.gov/api/v2.1/events/EONET_4142\n",
      "Iceberg D22 https://eonet.sci.gsfc.nasa.gov/api/v2.1/events/EONET_4142 ... FC Added\n",
      "Iceberg D23 https://eonet.sci.gsfc.nasa.gov/api/v2.1/events/EONET_4143\n",
      "Iceberg D23 https://eonet.sci.gsfc.nasa.gov/api/v2.1/events/EONET_4143 ... FC Added\n",
      "Iceberg D26 https://eonet.sci.gsfc.nasa.gov/api/v2.1/events/EONET_4144\n",
      "Iceberg D26 https://eonet.sci.gsfc.nasa.gov/api/v2.1/events/EONET_4144 ... FC Added\n",
      "Iceberg D27 https://eonet.sci.gsfc.nasa.gov/api/v2.1/events/EONET_4145\n",
      "Iceberg D27 https://eonet.sci.gsfc.nasa.gov/api/v2.1/events/EONET_4145 ... FC Added\n",
      "Iceberg A57A https://eonet.sci.gsfc.nasa.gov/api/v2.1/events/EONET_4120\n",
      "Iceberg A57A https://eonet.sci.gsfc.nasa.gov/api/v2.1/events/EONET_4120 ... FC Added\n",
      "Iceberg A63 https://eonet.sci.gsfc.nasa.gov/api/v2.1/events/EONET_4121\n",
      "Iceberg A63 https://eonet.sci.gsfc.nasa.gov/api/v2.1/events/EONET_4121 ... FC Added\n",
      "Iceberg B09G https://eonet.sci.gsfc.nasa.gov/api/v2.1/events/EONET_4122\n",
      "Iceberg B09G https://eonet.sci.gsfc.nasa.gov/api/v2.1/events/EONET_4122 ... FC Added\n",
      "Iceberg B09I https://eonet.sci.gsfc.nasa.gov/api/v2.1/events/EONET_4123\n",
      "Iceberg B09I https://eonet.sci.gsfc.nasa.gov/api/v2.1/events/EONET_4123 ... FC Added\n",
      "Iceberg B15AA https://eonet.sci.gsfc.nasa.gov/api/v2.1/events/EONET_4124\n",
      "Iceberg B15AA https://eonet.sci.gsfc.nasa.gov/api/v2.1/events/EONET_4124 ... FC Added\n",
      "Iceberg B15AB https://eonet.sci.gsfc.nasa.gov/api/v2.1/events/EONET_4125\n",
      "Iceberg B15AB https://eonet.sci.gsfc.nasa.gov/api/v2.1/events/EONET_4125 ... FC Added\n",
      "Iceberg B28 https://eonet.sci.gsfc.nasa.gov/api/v2.1/events/EONET_4126\n",
      "Iceberg B28 https://eonet.sci.gsfc.nasa.gov/api/v2.1/events/EONET_4126 ... FC Added\n",
      "Iceberg B29 https://eonet.sci.gsfc.nasa.gov/api/v2.1/events/EONET_4127\n",
      "Iceberg B29 https://eonet.sci.gsfc.nasa.gov/api/v2.1/events/EONET_4127 ... FC Added\n",
      "Iceberg B37 https://eonet.sci.gsfc.nasa.gov/api/v2.1/events/EONET_4128\n",
      "Iceberg B37 https://eonet.sci.gsfc.nasa.gov/api/v2.1/events/EONET_4128 ... FC Added\n",
      "Iceberg C36 https://eonet.sci.gsfc.nasa.gov/api/v2.1/events/EONET_4089\n",
      "Iceberg C36 https://eonet.sci.gsfc.nasa.gov/api/v2.1/events/EONET_4089 ... FC Added\n",
      "Iceberg B46 https://eonet.sci.gsfc.nasa.gov/api/v2.1/events/EONET_4031\n",
      "Iceberg B46 https://eonet.sci.gsfc.nasa.gov/api/v2.1/events/EONET_4031 ... FC Added\n",
      "Iceberg A68B https://eonet.sci.gsfc.nasa.gov/api/v2.1/events/EONET_2998\n",
      "Iceberg A68B https://eonet.sci.gsfc.nasa.gov/api/v2.1/events/EONET_2998 ... FC Added\n",
      "Iceberg A68A https://eonet.sci.gsfc.nasa.gov/api/v2.1/events/EONET_2934\n",
      "Iceberg A68A https://eonet.sci.gsfc.nasa.gov/api/v2.1/events/EONET_2934 ... FC Added\n",
      "Iceberg C34 https://eonet.sci.gsfc.nasa.gov/api/v2.1/events/EONET_2883\n",
      "Iceberg C34 https://eonet.sci.gsfc.nasa.gov/api/v2.1/events/EONET_2883 ... FC Added\n",
      "Iceberg B42 https://eonet.sci.gsfc.nasa.gov/api/v2.1/events/EONET_2881\n",
      "Iceberg B42 https://eonet.sci.gsfc.nasa.gov/api/v2.1/events/EONET_2881 ... FC Added\n",
      "Iceberg B43 https://eonet.sci.gsfc.nasa.gov/api/v2.1/events/EONET_2882\n",
      "Iceberg B43 https://eonet.sci.gsfc.nasa.gov/api/v2.1/events/EONET_2882 ... FC Added\n",
      "Iceberg D15B https://eonet.sci.gsfc.nasa.gov/api/v2.1/events/EONET_2871\n",
      "Iceberg D15B https://eonet.sci.gsfc.nasa.gov/api/v2.1/events/EONET_2871 ... FC Added\n",
      "Iceberg D15A https://eonet.sci.gsfc.nasa.gov/api/v2.1/events/EONET_2870\n",
      "Iceberg D15A https://eonet.sci.gsfc.nasa.gov/api/v2.1/events/EONET_2870 ... FC Added\n",
      "Iceberg A64 https://eonet.sci.gsfc.nasa.gov/api/v2.1/events/EONET_2880\n",
      "Iceberg A64 https://eonet.sci.gsfc.nasa.gov/api/v2.1/events/EONET_2880 ... FC Added\n",
      "Iceberg B30 https://eonet.sci.gsfc.nasa.gov/api/v2.1/events/EONET_2733\n",
      "Iceberg B30 https://eonet.sci.gsfc.nasa.gov/api/v2.1/events/EONET_2733 ... FC Added\n",
      "Iceberg B09F https://eonet.sci.gsfc.nasa.gov/api/v2.1/events/EONET_2874\n",
      "Iceberg B09F https://eonet.sci.gsfc.nasa.gov/api/v2.1/events/EONET_2874 ... FC Added\n",
      "Iceberg A23A https://eonet.sci.gsfc.nasa.gov/api/v2.1/events/EONET_2734\n",
      "Iceberg A23A https://eonet.sci.gsfc.nasa.gov/api/v2.1/events/EONET_2734 ... FC Added\n",
      "Iceberg B22A https://eonet.sci.gsfc.nasa.gov/api/v2.1/events/EONET_2736\n",
      "Iceberg B22A https://eonet.sci.gsfc.nasa.gov/api/v2.1/events/EONET_2736 ... FC Added\n",
      "Iceberg B15T https://eonet.sci.gsfc.nasa.gov/api/v2.1/events/EONET_2875\n",
      "Iceberg B15T https://eonet.sci.gsfc.nasa.gov/api/v2.1/events/EONET_2875 ... FC Added\n",
      "Iceberg C15 https://eonet.sci.gsfc.nasa.gov/api/v2.1/events/EONET_2876\n",
      "Iceberg C15 https://eonet.sci.gsfc.nasa.gov/api/v2.1/events/EONET_2876 ... FC Added\n",
      "Iceberg B09B https://eonet.sci.gsfc.nasa.gov/api/v2.1/events/EONET_2878\n",
      "Iceberg B09B https://eonet.sci.gsfc.nasa.gov/api/v2.1/events/EONET_2878 ... FC Added\n",
      "Iceberg D20A https://eonet.sci.gsfc.nasa.gov/api/v2.1/events/EONET_2879\n",
      "Iceberg D20A https://eonet.sci.gsfc.nasa.gov/api/v2.1/events/EONET_2879 ... FC Added\n",
      "Iceberg B16 https://eonet.sci.gsfc.nasa.gov/api/v2.1/events/EONET_2996\n",
      "Iceberg B16 https://eonet.sci.gsfc.nasa.gov/api/v2.1/events/EONET_2996 ... FC Added\n",
      "Iceberg C21B https://eonet.sci.gsfc.nasa.gov/api/v2.1/events/EONET_2997\n",
      "Iceberg C21B https://eonet.sci.gsfc.nasa.gov/api/v2.1/events/EONET_2997 ... FC Added\n"
     ]
    }
   ],
   "source": [
    "map2 = gis.map('USA')\n",
    "\n",
    "disaster_type = \"Iceberg\"\n",
    "save_to_fc = False # set to True, if you want to save each FeatureCollection into a Feature Layer\n",
    "\n",
    "fc_list = create_all_fs_from_json(\"https://eonet.sci.gsfc.nasa.gov/api/v2.1/events\", disaster_type, map2, False, save_to_fc)\n",
    "\n",
    "web_map_properties = {'title': \"Natural Disasters (\" + disaster_type + \") Collection\",\n",
    "                      'snippet':'This web map contains multiple '+ disaster_type + ' FC',\n",
    "                      'tags':'ArcGIS Python API'}\n",
    "\n",
    "if save_to_fc:\n",
    "    create_wm_from_list(fc_list, disaster_type)\n",
    "else:\n",
    "    map2.save(item_properties=web_map_properties)"
   ]
  },
  {
   "cell_type": "markdown",
   "metadata": {},
   "source": [
    "A more advanced usage is to create the web map that includes recent events for a list of natural disaster types as FeatureCollection objects, and also attach the before- and after-disaster satellite images in the web map."
   ]
  },
  {
   "cell_type": "code",
   "execution_count": 14,
   "metadata": {
    "scrolled": true
   },
   "outputs": [
    {
     "name": "stdout",
     "output_type": "stream",
     "text": [
      "Tropical Cyclone Joaninha https://eonet.sci.gsfc.nasa.gov/api/v2.1/events/EONET_4153\n",
      "Tropical Cyclone Joaninha https://eonet.sci.gsfc.nasa.gov/api/v2.1/events/EONET_4153 ... FC Added\n",
      "Applicable lockRasterIds= [1054701, 1066487, 1089251]\n",
      "(3, 10)\n",
      "Applicable lockRasterIds= [1093323, 1101511]\n",
      "(2, 10)\n",
      "Wildfires - Central and Northern Portugal https://eonet.sci.gsfc.nasa.gov/api/v2.1/events/EONET_4155\n",
      "Wildfires - Central and Northern Portugal https://eonet.sci.gsfc.nasa.gov/api/v2.1/events/EONET_4155 ... FC Added\n",
      "Applicable lockRasterIds= [1077391]\n",
      "(1, 10)\n",
      "Applicable lockRasterIds= []\n",
      "Wildfires - Paredones, Chile https://eonet.sci.gsfc.nasa.gov/api/v2.1/events/EONET_4154\n",
      "Wildfires - Paredones, Chile https://eonet.sci.gsfc.nasa.gov/api/v2.1/events/EONET_4154 ... FC Added\n",
      "Applicable lockRasterIds= [1061837, 1074463, 1087880]\n",
      "(3, 10)\n",
      "Applicable lockRasterIds= [1097228, 1104987]\n",
      "(2, 10)\n",
      "Wildfires - Southern Switzerland https://eonet.sci.gsfc.nasa.gov/api/v2.1/events/EONET_4149\n",
      "Wildfires - Southern Switzerland https://eonet.sci.gsfc.nasa.gov/api/v2.1/events/EONET_4149 ... FC Added\n",
      "Applicable lockRasterIds= [1061366]\n",
      "(1, 10)\n",
      "Applicable lockRasterIds= [1103841]\n",
      "(1, 10)\n",
      "Wildfires - Northwestern South Africa https://eonet.sci.gsfc.nasa.gov/api/v2.1/events/EONET_4150\n",
      "Wildfires - Northwestern South Africa https://eonet.sci.gsfc.nasa.gov/api/v2.1/events/EONET_4150 ... FC Added\n",
      "Applicable lockRasterIds= [1056590, 1063501, 1084331]\n",
      "(3, 10)\n",
      "Applicable lockRasterIds= [1102832, 1102833]\n",
      "(2, 10)\n",
      "Wildfires - Traiguén, Chile  https://eonet.sci.gsfc.nasa.gov/api/v2.1/events/EONET_4118\n",
      "Wildfires - Traiguén, Chile  https://eonet.sci.gsfc.nasa.gov/api/v2.1/events/EONET_4118 ... FC Added\n",
      "Applicable lockRasterIds= [1053454, 1058561, 1058562, 1061840, 1071549, 1071550]\n",
      "(6, 10)\n",
      "Applicable lockRasterIds= [1087883, 1097230, 1097231]\n",
      "(3, 10)\n",
      "Wildfires - Sierra Nevada de Santa Marta, Colombia https://eonet.sci.gsfc.nasa.gov/api/v2.1/events/EONET_4114\n",
      "Wildfires - Sierra Nevada de Santa Marta, Colombia https://eonet.sci.gsfc.nasa.gov/api/v2.1/events/EONET_4114 ... FC Added\n",
      "Applicable lockRasterIds= [1053536]\n",
      "(1, 10)\n",
      "Applicable lockRasterIds= [1071595]\n",
      "(1, 10)\n",
      "Wildfires - Southeastern Victoria, Australia https://eonet.sci.gsfc.nasa.gov/api/v2.1/events/EONET_4113\n",
      "Wildfires - Southeastern Victoria, Australia https://eonet.sci.gsfc.nasa.gov/api/v2.1/events/EONET_4113 ... FC Added\n",
      "Applicable lockRasterIds= [1053991]\n",
      "(1, 10)\n",
      "Applicable lockRasterIds= [1085302]\n",
      "(1, 10)\n",
      "Wildfires - Western Basque Country, Cantabria and Asturias, Spain  https://eonet.sci.gsfc.nasa.gov/api/v2.1/events/EONET_4112\n",
      "Wildfires - Western Basque Country, Cantabria and Asturias, Spain  https://eonet.sci.gsfc.nasa.gov/api/v2.1/events/EONET_4112 ... FC Added\n",
      "Applicable lockRasterIds= [1049456]\n",
      "(1, 10)\n",
      "Applicable lockRasterIds= [1074181, 1087629, 1104274]\n",
      "(3, 10)\n",
      "Wildfires - Ercilla and Collipulli, Chile https://eonet.sci.gsfc.nasa.gov/api/v2.1/events/EONET_4108\n",
      "Wildfires - Ercilla and Collipulli, Chile https://eonet.sci.gsfc.nasa.gov/api/v2.1/events/EONET_4108 ... FC Added\n",
      "Applicable lockRasterIds= [1061839]\n",
      "(1, 10)\n",
      "Applicable lockRasterIds= [1087882, 1104989]\n",
      "(2, 10)\n",
      "Wildfires - Esperance, Western Australia https://eonet.sci.gsfc.nasa.gov/api/v2.1/events/EONET_4107\n",
      "Wildfires - Esperance, Western Australia https://eonet.sci.gsfc.nasa.gov/api/v2.1/events/EONET_4107 ... FC Added\n",
      "Applicable lockRasterIds= [1050720, 1050721, 1062559, 1062560]\n",
      "(4, 10)\n",
      "Applicable lockRasterIds= [1075349, 1085619]\n",
      "(2, 10)\n",
      "Wildfires - Slovenia https://eonet.sci.gsfc.nasa.gov/api/v2.1/events/EONET_4106\n",
      "Wildfires - Slovenia https://eonet.sci.gsfc.nasa.gov/api/v2.1/events/EONET_4106 ... FC Added\n",
      "Applicable lockRasterIds= []\n",
      "Applicable lockRasterIds= [1077102, 1090027, 1097117]\n",
      "(3, 10)\n",
      "Wildfires - South Africa https://eonet.sci.gsfc.nasa.gov/api/v2.1/events/EONET_4105\n",
      "Wildfires - South Africa https://eonet.sci.gsfc.nasa.gov/api/v2.1/events/EONET_4105 ... FC Added\n",
      "Applicable lockRasterIds= [1052301, 1052302, 1056590, 1056591, 1063501, 1063502]\n",
      "(6, 10)\n",
      "Applicable lockRasterIds= [1084331, 1084332, 1102832, 1102834]\n",
      "(4, 10)\n",
      "Wildfires - Saddleworth Moor, United Kingdom  https://eonet.sci.gsfc.nasa.gov/api/v2.1/events/EONET_4103\n",
      "Wildfires - Saddleworth Moor, United Kingdom  https://eonet.sci.gsfc.nasa.gov/api/v2.1/events/EONET_4103 ... FC Added\n",
      "Applicable lockRasterIds= [1063975]\n",
      "(1, 10)\n",
      "Applicable lockRasterIds= []\n",
      "Wildfires - Corsica, France  https://eonet.sci.gsfc.nasa.gov/api/v2.1/events/EONET_4101\n",
      "Wildfires - Corsica, France  https://eonet.sci.gsfc.nasa.gov/api/v2.1/events/EONET_4101 ... FC Added\n",
      "Applicable lockRasterIds= [1055387]\n",
      "(1, 10)\n",
      "Applicable lockRasterIds= [1074028]\n",
      "(1, 10)\n",
      "Wildfires - Southern Switzerland https://eonet.sci.gsfc.nasa.gov/api/v2.1/events/EONET_4094\n",
      "Wildfires - Southern Switzerland https://eonet.sci.gsfc.nasa.gov/api/v2.1/events/EONET_4094 ... FC Added\n",
      "Applicable lockRasterIds= [1061366]\n",
      "(1, 10)\n",
      "Applicable lockRasterIds= []\n",
      "Wildfires - Galvarino, Chile https://eonet.sci.gsfc.nasa.gov/api/v2.1/events/EONET_4090\n",
      "Wildfires - Galvarino, Chile https://eonet.sci.gsfc.nasa.gov/api/v2.1/events/EONET_4090 ... FC Added\n",
      "Applicable lockRasterIds= [1028341, 1053454]\n",
      "(2, 10)\n",
      "Applicable lockRasterIds= [1058561, 1058562, 1061840, 1071549, 1071550, 1087883]\n",
      "(6, 10)\n",
      "Wildfires - Nelson - Tasman, New Zealand https://eonet.sci.gsfc.nasa.gov/api/v2.1/events/EONET_4086\n",
      "Wildfires - Nelson - Tasman, New Zealand https://eonet.sci.gsfc.nasa.gov/api/v2.1/events/EONET_4086 ... FC Added\n",
      "Applicable lockRasterIds= []\n",
      "Applicable lockRasterIds= [1075074]\n",
      "(1, 10)\n",
      "Wildfires - Southwestern, South Africa  https://eonet.sci.gsfc.nasa.gov/api/v2.1/events/EONET_4087\n",
      "Wildfires - Southwestern, South Africa  https://eonet.sci.gsfc.nasa.gov/api/v2.1/events/EONET_4087 ... FC Added\n",
      "Applicable lockRasterIds= [1019830]\n",
      "(1, 10)\n",
      "Applicable lockRasterIds= [1060918, 1089762]\n",
      "(2, 10)\n",
      "Wildfires - Southern Chile https://eonet.sci.gsfc.nasa.gov/api/v2.1/events/EONET_4081\n",
      "Wildfires - Southern Chile https://eonet.sci.gsfc.nasa.gov/api/v2.1/events/EONET_4081 ... FC Added\n",
      "Applicable lockRasterIds= [1028316, 1053362]\n",
      "(2, 10)\n",
      "Applicable lockRasterIds= []\n"
     ]
    },
    {
     "data": {
      "text/html": [
       "<div class=\"item_container\" style=\"height: auto; overflow: hidden; border: 1px solid #cfcfcf; border-radius: 2px; background: #f6fafa; line-height: 1.21429em; padding: 10px;\">\n",
       "                    <div class=\"item_left\" style=\"width: 210px; float: left;\">\n",
       "                       <a href='https://datascienceqa.esri.com/portal/home/item.html?id=04380c2dea154f1da9128831ee4fc4c2' target='_blank'>\n",
       "                        <img src='https://datascienceqa.esri.com/portal/portalimages/desktopapp.png' class=\"itemThumbnail\">\n",
       "                       </a>\n",
       "                    </div>\n",
       "\n",
       "                    <div class=\"item_right\"     style=\"float: none; width: auto; overflow: hidden;\">\n",
       "                        <a href='https://datascienceqa.esri.com/portal/home/item.html?id=04380c2dea154f1da9128831ee4fc4c2' target='_blank'><b>Natural Disasters (Tropical Cyclone, Wildfires) Collection</b>\n",
       "                        </a>\n",
       "                        <br/>This web map contains multiple Wildfires FC<img src='https://datascienceqa.esri.com/portal/home/js/jsapi/esri/css/images/item_type_icons/maps16.png' style=\"vertical-align:middle;\">Web Map by portaladmin\n",
       "                        <br/>Last Modified: April 02, 2019\n",
       "                        <br/>0 comments, 0 views\n",
       "                    </div>\n",
       "                </div>\n",
       "                "
      ],
      "text/plain": [
       "<Item title:\"Natural Disasters (Tropical Cyclone, Wildfires) Collection\" type:Web Map owner:portaladmin>"
      ]
     },
     "execution_count": 14,
     "metadata": {},
     "output_type": "execute_result"
    }
   ],
   "source": [
    "disasters = [\"Tropical Cyclone\", \"Wildfires\"] # disaster_type picked from \"Tropical Cyclone\", \"Wildfires\", \"Volcano\", \"Iceberg\"\n",
    "map3 = gis.map('USA')\n",
    "\n",
    "for disaster_type in disasters:\n",
    "    fc_list = create_all_fs_from_json(\"https://eonet.sci.gsfc.nasa.gov/api/v2.1/events\", disaster_type, map3, add_Landsat = True)\n",
    "\n",
    "if len(disasters) > 1:\n",
    "    wm_token = \", \".join(str(e) for e in disasters)\n",
    "else:\n",
    "    wm_token = disasters[0]\n",
    "    \n",
    "web_map_properties = {'title': \"Natural Disasters (\" + wm_token + \") Collection\",\n",
    "                      'snippet':'This web map contains multiple '+ disaster_type + ' FC',\n",
    "                      'tags':'ArcGIS Python API'}\n",
    "\n",
    "# Call the save() with web map item's properties.\n",
    "map3.save(item_properties=web_map_properties)"
   ]
  },
  {
   "cell_type": "markdown",
   "metadata": {},
   "source": [
    "You can either access the web map item from the link, or simply draw the map in the current map view."
   ]
  },
  {
   "cell_type": "code",
   "execution_count": null,
   "metadata": {
    "scrolled": true
   },
   "outputs": [],
   "source": [
    "# Wildfires - Esperance, Western Australia\n",
    "map3.zoom = 10\n",
    "map3.center = {  'spatialReference': {'latestWkid': 3857, 'wkid': 102100},\n",
    "                 'x': 121.86775,\n",
    "                 'y': -33.84872\n",
    "              }\n",
    "map3"
   ]
  },
  {
   "cell_type": "code",
   "execution_count": null,
   "metadata": {},
   "outputs": [],
   "source": [
    "# Or Wildfires - Paredones, Chile\n",
    "map3.center = {  'spatialReference': {'latestWkid': 3857, 'wkid': 102100},\n",
    "                 'x': -71.90417,\n",
    "                 'y': -34.64446\n",
    "              }\n",
    "map3"
   ]
  },
  {
   "cell_type": "code",
   "execution_count": null,
   "metadata": {
    "scrolled": true
   },
   "outputs": [],
   "source": [
    "# Tropical Cyclone Joaninha\n",
    "map3.center = {  'spatialReference': {'latestWkid': 3857, 'wkid': 102100},\n",
    "                 'x': 64.2,\n",
    "                 'y': -19.2\n",
    "              }\n",
    "map3"
   ]
  },
  {
   "cell_type": "code",
   "execution_count": 15,
   "metadata": {},
   "outputs": [
    {
     "data": {
      "text/html": [
       "<div class=\"item_container\" style=\"height: auto; overflow: hidden; border: 1px solid #cfcfcf; border-radius: 2px; background: #f6fafa; line-height: 1.21429em; padding: 10px;\">\n",
       "                    <div class=\"item_left\" style=\"width: 210px; float: left;\">\n",
       "                       <a href='https://datascienceqa.esri.com/portal/home/item.html?id=e2c70298e54f4f6cb201d988c20b8e3c' target='_blank'>\n",
       "                        <img src='https://datascienceqa.esri.com/portal/portalimages/desktopapp.png' class=\"itemThumbnail\">\n",
       "                       </a>\n",
       "                    </div>\n",
       "\n",
       "                    <div class=\"item_right\"     style=\"float: none; width: auto; overflow: hidden;\">\n",
       "                        <a href='https://datascienceqa.esri.com/portal/home/item.html?id=e2c70298e54f4f6cb201d988c20b8e3c' target='_blank'><b>Natural Disasters (Tropical Cyclone, Wildfires) Collection</b>\n",
       "                        </a>\n",
       "                        <br/>This web map contains multiple Wildfires FC<img src='https://datascienceqa.esri.com/portal/home/js/jsapi/esri/css/images/item_type_icons/maps16.png' style=\"vertical-align:middle;\">Web Map by portaladmin\n",
       "                        <br/>Last Modified: April 01, 2019\n",
       "                        <br/>0 comments, 11 views\n",
       "                    </div>\n",
       "                </div>\n",
       "                "
      ],
      "text/plain": [
       "<Item title:\"Natural Disasters (Tropical Cyclone, Wildfires) Collection\" type:Web Map owner:portaladmin>"
      ]
     },
     "execution_count": 15,
     "metadata": {},
     "output_type": "execute_result"
    }
   ],
   "source": [
    "wm_item = exact_search(portal_gis, 'Natural Disasters (Tropical Cyclone, Wildfires) Collection', '*', 'Web Map')\n",
    "wm_item"
   ]
  },
  {
   "cell_type": "code",
   "execution_count": 16,
   "metadata": {},
   "outputs": [
    {
     "name": "stdout",
     "output_type": "stream",
     "text": [
      "12/25/2018 to 01/22/2019 at [-8073775.576,-5863052.414,-8073775.576,-5863052.414]\n",
      "Wildfires - Southern Chile\n",
      "01/23/2019 to 02/20/2019 at [2228499.320,-3893545.380,2228499.320,-3893545.380]\n",
      "Wildfires - Southwestern, South Africa \n",
      "01/23/2019 to 02/20/2019 at [19226902.075,-5057734.544,19226902.075,-5057734.544]\n",
      "Wildfires - Nelson - Tasman, New Zealand\n",
      "01/28/2019 to 02/25/2019 at [-8102069.650,-4637346.120,-8102069.650,-4637346.120]\n",
      "12/31/2018 to 01/28/2019 at [-8102069.650,-4637346.120,-8102069.650,-4637346.120]\n",
      "Wildfires - Galvarino, Chile\n",
      "01/04/2019 to 02/01/2019 at [987268.074,5806712.794,987268.074,5806712.794]\n",
      "Wildfires - Southern Switzerland\n",
      "02/11/2019 to 03/11/2019 at [1007320.053,5188840.125,1007320.053,5188840.125]\n",
      "01/14/2019 to 02/11/2019 at [1007320.053,5188840.125,1007320.053,5188840.125]\n",
      "Wildfires - Corsica, France \n",
      "01/16/2019 to 02/13/2019 at [-217866.715,7083923.080,-217866.715,7083923.080]\n",
      "Wildfires - Saddleworth Moor, United Kingdom \n",
      "02/15/2019 to 03/15/2019 at [2566897.214,-3266011.199,2566897.214,-3266011.199]\n",
      "01/18/2019 to 02/15/2019 at [2566897.214,-3266011.199,2566897.214,-3266011.199]\n",
      "Wildfires - South Africa\n",
      "02/15/2019 to 03/15/2019 at [1631820.170,5782015.984,1631820.170,5782015.984]\n",
      "Wildfires - Slovenia\n",
      "02/15/2019 to 03/15/2019 at [13566255.874,-4008506.861,13566255.874,-4008506.861]\n",
      "01/18/2019 to 02/15/2019 at [13566255.874,-4008506.861,13566255.874,-4008506.861]\n",
      "Wildfires - Esperance, Western Australia\n",
      "02/15/2019 to 03/15/2019 at [-8061898.899,-4580017.736,-8061898.899,-4580017.736]\n",
      "01/18/2019 to 02/15/2019 at [-8061898.899,-4580017.736,-8061898.899,-4580017.736]\n",
      "Wildfires - Ercilla and Collipulli, Chile\n",
      "02/19/2019 to 03/19/2019 at [-540318.092,5328687.289,-540318.092,5328687.289]\n",
      "01/22/2019 to 02/19/2019 at [-540318.092,5328687.289,-540318.092,5328687.289]\n",
      "Wildfires - Western Basque Country, Cantabria and Asturias, Spain \n",
      "02/19/2019 to 03/19/2019 at [16453113.134,-4508985.089,16453113.134,-4508985.089]\n",
      "Wildfires - Southeastern Victoria, Australia\n",
      "01/24/2019 to 02/21/2019 at [-8203505.084,1212700.078,-8203505.084,1212700.078]\n",
      "Wildfires - Sierra Nevada de Santa Marta, Colombia\n",
      "02/25/2019 to 03/25/2019 at [-8091067.945,-4614802.875,-8091067.945,-4614802.875]\n",
      "01/28/2019 to 02/25/2019 at [-8091067.945,-4614802.875,-8091067.945,-4614802.875]\n",
      "Wildfires - Traiguén, Chile \n",
      "03/04/2019 to 04/01/2019 at [2632094.813,-3251022.697,2632094.813,-3251022.697]\n",
      "02/04/2019 to 03/04/2019 at [2632094.813,-3251022.697,2632094.813,-3251022.697]\n",
      "Wildfires - Northwestern South Africa\n",
      "Wildfires - Southern Switzerland\n",
      "03/07/2019 to 04/04/2019 at [-8004335.590,-4115669.035,-8004335.590,-4115669.035]\n",
      "02/07/2019 to 03/07/2019 at [-8004335.590,-4115669.035,-8004335.590,-4115669.035]\n",
      "Wildfires - Paredones, Chile\n",
      "Wildfires - Central and Northern Portugal\n",
      "03/08/2019 to 04/05/2019 at [6857280.633,-2999080.944,7803496.305,-1631643.467]\n",
      "02/08/2019 to 03/08/2019 at [6857280.633,-2999080.944,7803496.305,-1631643.467]\n",
      "Tropical Cyclone Joaninha\n"
     ]
    }
   ],
   "source": [
    "from arcgis.mapping import WebMap\n",
    "webmap_obj = WebMap(wm_item)\n",
    "for lyr in webmap_obj.layers:\n",
    "    print(lyr.title)"
   ]
  },
  {
   "cell_type": "code",
   "execution_count": 17,
   "metadata": {},
   "outputs": [
    {
     "data": {
      "application/vnd.jupyter.widget-view+json": {
       "model_id": "5b71c0d6b0fe46b999b7ebfea26ec5c7",
       "version_major": 2,
       "version_minor": 0
      },
      "text/plain": [
       "MapView(layout=Layout(height='400px', width='100%'))"
      ]
     },
     "metadata": {},
     "output_type": "display_data"
    },
    {
     "data": {
      "text/html": [
       "<div class=\"map-static-img-preview-854e14e8-b9f0-44b2-afcd-4771bd0040ea\"><img src=\"\"></img></div>"
      ],
      "text/plain": [
       "<IPython.core.display.HTML object>"
      ]
     },
     "metadata": {},
     "output_type": "display_data"
    }
   ],
   "source": [
    "map_obj = portal_gis.map(wm_item)\n",
    "map_obj.center = {       'spatialReference': {'latestWkid': 3857, 'wkid': 102100},\n",
    "                         'x': 64.2,\n",
    "                         'y': -19.2\n",
    "                 }\n",
    "map_obj"
   ]
  },
  {
   "cell_type": "markdown",
   "metadata": {},
   "source": [
    "## Conclusion"
   ]
  },
  {
   "cell_type": "markdown",
   "metadata": {},
   "source": [
    "This sample showcases an automated workflow to aggregate the recent ocurrences of natural disasters from NASA's EONET API, create according FeatureCollection based on the events and add the before- and post- disaster Landsat satellite images related to the event, and save all such layers in a web map item on target enterprise.Decision makers or Emergency Response crew can take advantage of this web map to perform disaster impact analysis or other operations."
   ]
  }
 ],
 "metadata": {
  "kernelspec": {
   "display_name": "Python 3",
   "language": "python",
   "name": "python3"
  },
  "language_info": {
   "codemirror_mode": {
    "name": "ipython",
    "version": 3
   },
   "file_extension": ".py",
   "mimetype": "text/x-python",
   "name": "python",
   "nbconvert_exporter": "python",
   "pygments_lexer": "ipython3",
   "version": "3.6.8"
  }
 },
 "nbformat": 4,
 "nbformat_minor": 2
}
