{
 "cells": [
  {
   "cell_type": "code",
   "execution_count": 34,
   "metadata": {},
   "outputs": [],
   "source": [
    "from arcgis.gis import GIS\n",
    "# gis = GIS('https://pythonapi.playground.esri.com/portal', 'arcgis_python', 'amazing_arcgis_123', verify_cert=False)\n",
    "gis = GIS('https://www.arcgis.com',\"arcgis_python\",\"P@ssword123\")\n",
    "portal_gis = GIS('https://datascienceqa.esri.com/portal','portaladmin','esri.agp')"
   ]
  },
  {
   "cell_type": "code",
   "execution_count": 36,
   "metadata": {},
   "outputs": [
    {
     "data": {
      "text/html": [
       "<div class=\"item_container\" style=\"height: auto; overflow: hidden; border: 1px solid #cfcfcf; border-radius: 2px; background: #f6fafa; line-height: 1.21429em; padding: 10px;\">\n",
       "                    <div class=\"item_left\" style=\"width: 210px; float: left;\">\n",
       "                       <a href='https://geosaurus.maps.arcgis.com/home/item.html?id=d9b466d6a9e647ce8d1dd5fe12eb434b' target='_blank'>\n",
       "                        <img src='data:image/png;base64,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' width='200' height='133' class=\"itemThumbnail\">\n",
       "                       </a>\n",
       "                    </div>\n",
       "\n",
       "                    <div class=\"item_right\"     style=\"float: none; width: auto; overflow: hidden;\">\n",
       "                        <a href='https://geosaurus.maps.arcgis.com/home/item.html?id=d9b466d6a9e647ce8d1dd5fe12eb434b' target='_blank'><b>Multispectral Landsat</b>\n",
       "                        </a>\n",
       "                        <br/>Landsat 8 OLI, 30m multispectral and multitemporal 8-band imagery, with on-the-fly renderings and indices.  This imagery layer is sourced from the Landsat on AWS collections and is updated daily with new imagery.<img src='https://geosaurus.maps.arcgis.com/home/js/jsapi/esri/css/images/item_type_icons/imagery16.png' style=\"vertical-align:middle;\">Imagery Layer by esri\n",
       "                        <br/>Last Modified: May 03, 2018\n",
       "                        <br/>0 comments, 125,299 views\n",
       "                    </div>\n",
       "                </div>\n",
       "                "
      ],
      "text/plain": [
       "<Item title:\"Multispectral Landsat\" type:Imagery Layer owner:esri>"
      ]
     },
     "execution_count": 36,
     "metadata": {},
     "output_type": "execute_result"
    }
   ],
   "source": [
    "def exact_search(title, owner_value, item_type_value):\n",
    "    final_match = None\n",
    "    search_result = gis.content.search(query= title + ' AND owner:' + owner_value, item_type=item_type_value, outside_org=True)\n",
    "    \n",
    "    if \"Imagery Layer\" in item_type_value:\n",
    "        item_type_value = item_type_value.replace(\"Imagery Layer\", \"Image Service\")\n",
    "    elif \"Layer\" in item_type_value:\n",
    "        item_type_value = item_type_value.replace(\"Layer\", \"Service\")\n",
    "    \n",
    "    for result in search_result:\n",
    "        if result.title == title:\n",
    "            final_match = result\n",
    "            break\n",
    "    return final_match\n",
    "\n",
    "landsat_item = exact_search('Multispectral Landsat', 'esri', 'Imagery Layer')\n",
    "landsat_item"
   ]
  },
  {
   "cell_type": "code",
   "execution_count": 3,
   "metadata": {},
   "outputs": [],
   "source": [
    "landsat = landsat_item.layers[0]"
   ]
  },
  {
   "cell_type": "code",
   "execution_count": 10,
   "metadata": {},
   "outputs": [],
   "source": [
    "renderer_storm = {\n",
    "                    \"renderer\": \"autocast\",\n",
    "                    \"type\": \"simple\",\n",
    "                    \"symbol\": {\n",
    "                        \"type\": \"esriPMS\",\n",
    "                        \"url\": \"65d5289c410e0b419e40d00ed4bcb534\",\n",
    "                        \"imageData\": \"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\",\n",
    "                        \"contentType\": \"image/png\",\n",
    "                        \"width\": 22,\n",
    "                        \"height\": 27,\n",
    "                        \"angle\": 0,\n",
    "                        \"xoffset\": 0,\n",
    "                        \"yoffset\": 0\n",
    "                    },\n",
    "                    \"label\": \"tropical cyclone\",\n",
    "                    \"description\": \"\"\n",
    "                }\n",
    "\n",
    "renderer_wildfire = {\n",
    "                        \"renderer\": \"autocast\",\n",
    "                        \"type\": \"simple\",\n",
    "                        \"symbol\": {\n",
    "                            \"type\": \"esriPMS\",\n",
    "                            \"url\": \"b68774e72a946a4b6311e7e41d14ddaf\",\n",
    "                            \"imageData\": \"iVBORw0KGgoAAAANSUhEUgAAABgAAAAcCAYAAAB75n/uAAAAAXNSR0IB2cksfwAAAAlwSFlzAAAOxAAADsQBlSsOGwAABJVJREFUSIm9ll+IFVUcxz8zc+f+G+/u2t7dYu9Ku5arqQlKRiypPdRDBgYbUUagUQhihVD6EIYWqQ+9BSG5L0o9maUVRhBBJAUhZAluslSbuVd097rd3fXsnT/nnOnhzL3tqnd7qQ4MA79zzvdzzvc3vx+T4j8eqf8d8PsWslZp7euR4z6uncKyOJ11sG2wbMAGNMQatAQlscKaspT/sytnTnL13P6eo/jzAqKu1UMt+UJvh5cjm81jZbJguwZgWRDHECtQElRE7NuO77srp4W9cqq4ajOcu7spYOSlvn09ba29uC44NmgNCiCmWgu4pjPEUcDiFhs7jkGDFUPOhlw+Taebv2tkR2lv77vlN24JUHFqAG1cQGmwNOiYUEqu+bBoy14mjr6KHafNvI6TN6AUaIVS6QGgCUBxD1qBiowlyvg8KSJuW7+VdHs3OQdQMWadNOJaJQ+omOXNcxDLFEqB5STX0KgoYkqm6Fm5HgAtJUgaSUZKkBFInRxoruZcQBiBXwNHg6OIHZfxsIZTKOHkCgBMsoDUn2NcmZF0PbuPmSOv0JGpJ11BENIcEAGhAkdBCqJIkd/0GuKz95DVMVILb6dz08tMDO6krf8JvOX9hFpBlIgrCTHzAFRorhwDsYNDipb7HyMY/QVx/ltaHxwgv2QNwcYdZLuXmDMFgdkr65YF8wGAQJqoAzIGB8gvXUtw6UJj2cKHnjL1AFSFpBOShEfGhaaAmQDygJNmWsH0iofpAvJ99+Gt6DeilmXWJu/unYcYPfgM3TlM8sPaPACd5EGGVH0oPvq80XLTDdFofBS3o7uxJbN4FUEtMEoyeZoCZM0ALAh9SJf+rno1WcFpLSLOfEnbxucaccuyiSVQt35eQASEgA22BC2mcFrbAZj+5iRh+TdAo6rjOG0d5tK+wNY1kDnQtaS1NAFYEWfxa6sBeoGxrfdS/OQqlpumMriPxQQEEi4P/ciid75AiykmNi+hN4WpH51oNAFY0ucEWVZjm0DRhj9e6KfwyNOkS0sJR77nUgCF9juYeP9tJk99QI9tWhY6ccjnhDHZVMRsQGrXGTH40TrvzYxrAjbQdeVXpo/up9OGrAN9Lkx/fZzgq+N0u0bJeAWBgl1nxGCiG90IcE+BN3Sdy90Zuha4kHMgDbQnAvVTFoBCvV0pqAHXIxgNRPkUeMDUrQDpYrHYsuZsZQ+mvqx1HsW37vS2LvPo63TmJm9MwQXB8J6L4shpQSWxRBWLxZZKpXINmLkRoCqVSg0QmIPbpwWXNwyJg4f62Djg8WRnsnpMwseCD7cP83kiHCf3CRONxrc0GxACVc/zykAWcIUQNuBuH+ZYbx+lB7L0A5z1+W77MMcSGyLP8+ol6gshqonWTYAImBRCjCQ3SAFOqVTKBEGQ3T1cOXB8OZ8C7B7mQLFYHM9kMn65XA6EEIqkUQBVZnWk2QCNyVf9r8ACKJfLNmBXIHX+orcB4BziByoVyZzUNxr1nIZ9q/+ixsIYHAvkYUhvA78sxE/JnH8YUtuShmvdVL/zAxqjvnFb4umLMF2fq8fmE/9HwL8x/gIVox144tSrDwAAAABJRU5ErkJggg==\",\n",
    "                            \"contentType\": \"image/png\",\n",
    "                            \"width\": 18,\n",
    "                            \"height\": 21,\n",
    "                            \"angle\": 0,\n",
    "                            \"xoffset\": 0,\n",
    "                            \"yoffset\": 0\n",
    "                        },\n",
    "                        \"label\": \"wildfires\",\n",
    "                        \"description\": \"\"\n",
    "                    }\n",
    "\n",
    "\n",
    "renderer_volcano = {\n",
    "                        \"renderer\": \"autocast\",\n",
    "                        \"type\": \"simple\",\n",
    "                        \"symbol\": {\n",
    "                            \"angle\": 0,\n",
    "                            \"xoffset\": 0,\n",
    "                            \"yoffset\": 0,\n",
    "                            \"type\": \"esriPMS\",\n",
    "                            \"url\": \"d8153a3e-3a2a-4cf5-859e-782cd6578e20\",\n",
    "                            \"width\": 22.5,\n",
    "                            \"height\": 22.5,\n",
    "                            \"imageData\": \"iVBORw0KGgoAAAANSUhEUgAAAEEAAABBCAYAAACO98lFAAAACXBIWXMAABJ0AAASdAHeZh94AAAAB3RJTUUH4gofEhYRvBitegAAAAd0RVh0QXV0aG9yAKmuzEgAAAAMdEVYdERlc2NyaXB0aW9uABMJISMAAAAKdEVYdENvcHlyaWdodACsD8w6AAAADnRFWHRDcmVhdGlvbiB0aW1lADX3DwkAAAAJdEVYdFNvZnR3YXJlAF1w/zoAAAALdEVYdERpc2NsYWltZXIAt8C0jwAAAAh0RVh0V2FybmluZwDAG+aHAAAAB3RFWHRTb3VyY2UA9f+D6wAAAAh0RVh0Q29tbWVudAD2zJa/AAAABnRFWHRUaXRsZQCo7tInAAADf0lEQVR4nO2aW08TQRTH/9OiDSIi6AMECBCCERNvGH3gg5j47CfwK/iqREm8PQDGRALRgJrwoCjBWGqlQRMg3FuupdCWlrWUclE4PhAa1G7o7s7srnH+ySTN7uyZs789c3bmbBkR4X+Xw2oH7CAJARICAAkBgIQAQEIAICEAkBAASAgAJAQA/xAEjz9Gze5ZYowRY4xa+uZoemWdy5qf2X3vMBdLUeXpPNXzHn8M9dVFzMgYtofAGDvUwdFQArUl+bpB2BpCNgD2RUS6Idg2J3j9cU1PJxDVnx9sC6G+5pSm/kvKpu6xbAlhbHlN81M9dtSpezxbQugZjWjqf7/bj7qKk/rfEERkWfPNxOn553lyT67Q/rHe8SgByNie9E7TaCiR7huIJMkfTpJRPywD0OqdV71ZtSbKF0sAzERTmgG8+RYSBsGSnKBsbGm+5kzJcQGe7MkSCK4c7Zn8bLH+FeFhsgTCn0vcBz0BEBEjIjYUVNDWv5A+1+qdBxlYDWYlqxJjx9fF9HzvHgkLm++2zQkAcLG8IP17KrxulRsALN5AHdwgLcRTKCvMFRv2KrLNitEbiFs2tmWRMDCr0NWqwt+OCU+AKrIsEozs+njL1EhYVDZpZ4fAGLCS3EYsuQUHY9glIM/lQHFBLpwOBsaAchPzg2kQ+qZiNPGoJuv++TeGcP1amSkgTJsOWgAAwFrbBUGe/C3bvB0yaWxJe3FFj0yB4PHHdN2MNxDj7UpGmQJh/KG2qbAv6qjj7ElmCYcwHTH2lcg9uSJ8SgiH8HEiauj6ycdnOHmiLqEQQsomUafxkB4OJoRGg1AIHzRWjdXka6jkYkdNwiCElA368fISN3sDs6vCokEYhK7BZa72Bhurudo7KCEQBoPfyfn6Cne7b4eXhUSDEAgDDVUizGKx5RyCqxvcQXCH0NYfFJrJ390u5W6TK4ThxQSl2sVvfLqGwlxBc4Xgu1vJ05yqwk9rMRLit7niBqH5VpGpdbovdyq42eICock9Z0mhkhd4wxDa+4PEOi/z8EWXeIAwBOGFL0jrJiTCw9T4PmAIhO4aY9OnWWKvzNnvZ6ub9+K6apK6IqF7JGI7AADwzDOv64nqioSp8BopqZ9wHXGCYe+rqtXa3tmFK8eB86UnNEeDrf/MaZZsXW02SxICJAQAEgIACQGAhABAQgAgIQCQEAAAvwAjo+0i0UboSwAAAABJRU5ErkJggg==\",\n",
    "                            \"contentType\": \"image/png\"\n",
    "                        }\n",
    "                    }\n",
    "\n",
    "renderer_var = {  \"renderer\": \"autocast\", #This tells python to use JS autocasting\n",
    "                  \"type\": \"simple\",  # JS type of new SimpleRenderer()\n",
    "                  \"symbol\": {\n",
    "                    \"type\": \"point\",  #JS type of new PointSymbol3D()\n",
    "                    \"symbolLayers\": [{  \n",
    "                      \"type\": \"object\",  #JS type of new ObjectSymbol3DLayer()\n",
    "                      \"resource\": { \"primitive\": \"sphere\" },\n",
    "                      \"color\": \"red\",\n",
    "                      \"width\": 50000\n",
    "                    }]\n",
    "                  }\n",
    "               }\n",
    "    \n",
    "renderer_dict = {\n",
    "    \"Tropical Cyclones\": renderer_var,\n",
    "    \"Wildfires\": renderer_wildfire,\n",
    "    \"Volcano\": renderer_volcano\n",
    "}"
   ]
  },
  {
   "cell_type": "code",
   "execution_count": 37,
   "metadata": {},
   "outputs": [],
   "source": [
    "import json\n",
    "import requests\n",
    "import pandas as pd\n",
    "\n",
    "def create_all_fs_from_json(url, disaster_type, add_to_map=None, save_to_fc = True):\n",
    "    response = requests.get(url)\n",
    "    json_data = json.loads(response.text)\n",
    "    item_list = []\n",
    "\n",
    "    for event in json_data[\"events\"]:\n",
    "        if disaster_type in event[\"title\"]:\n",
    "            \n",
    "            try:\n",
    "                resp_event = requests.get(event[\"link\"])\n",
    "                json_event = json.loads(resp_event.text)\n",
    "                r = json.dumps(json_event[\"geometries\"])\n",
    "                df = pd.read_json(r, orient=\",\")\n",
    "                df[['coordinates_x', 'coordinates_y']] = pd.DataFrame(df['coordinates'].tolist(), index=df.index)\n",
    "                fc = portal_gis.content.import_data(df, locationtype=\"coordinates\",\n",
    "                                        longitude_field=\"coordinates_x\",latitude_field=\"coordinates_y\")\n",
    "                if add_to_map is not None:\n",
    "                    add_to_map.add_layer(fc, {\"title\": event[\"title\"]})\n",
    "                if save_to_fc:\n",
    "                    item_properties = {\n",
    "                        \"title\": json_event[\"title\"],\n",
    "                        \"tags\" : disaster_type,\n",
    "                        \"snippet\": json_event[\"categories\"][0]['title'],\n",
    "                        \"description\": json_event[\"sources\"][0]['url'],\n",
    "                        \"text\": json.dumps({\"featureCollection\": {\"layers\": [dict(fc.layer)]}}),\n",
    "                        \"type\": \"Feature Collection\",\n",
    "                        \"typeKeywords\": \"Data, Feature Collection, Singlelayer\"\n",
    "                    }\n",
    "                    item = portal_gis.content.add(item_properties)\n",
    "                    item_list.append(item.itemid)\n",
    "                print(event[\"title\"], event[\"link\"], \"... Added\")\n",
    "\n",
    "            except Exception:\n",
    "                print(traceback.format_exc())\n",
    "                print(event[\"title\"], event[\"link\"], \"... Skipped\")\n",
    "    return item_list"
   ]
  },
  {
   "cell_type": "code",
   "execution_count": 27,
   "metadata": {},
   "outputs": [],
   "source": [
    "from arcgis.mapping import WebMap\n",
    "\n",
    "def create_wm_from_list(fc_list, disaster_type, wm_item = None):\n",
    "    if wm_item is None:\n",
    "        wm = WebMap()\n",
    "    else:\n",
    "        wm = WebMap(wm_item)\n",
    "\n",
    "    for fc in fc_list:\n",
    "        new_item= portal_gis.content.search(fc)[0]\n",
    "        wm.add_layer(new_item, options={'title':disaster_type})\n",
    "\n",
    "    web_map_properties = {'title':disaster_type + \" WM\",\n",
    "                         'snippet':'This web map contains multiple '+ disaster_type + ' FS',\n",
    "                         'tags':'ArcGIS Python API'}\n",
    "\n",
    "    # Call the save() with web map item's properties.\n",
    "    web_map_item = wm.save(item_properties=web_map_properties)\n",
    "    return web_map_item"
   ]
  },
  {
   "cell_type": "code",
   "execution_count": null,
   "metadata": {},
   "outputs": [],
   "source": [
    "map2 = gis.map('USA')\n",
    "\n",
    "disaster_type = \"Volcano\"\n",
    "fc_list = create_all_fs_from_json(\"https://eonet.sci.gsfc.nasa.gov/api/v2.1/events\", disaster_type, map2, False)\n",
    "\n",
    "web_map_properties = {'title': \"Natural Disasters Feature Service Collection\",\n",
    "                      'snippet':'This web map contains multiple '+ disaster_type + ' FC',\n",
    "                      'tags':'ArcGIS Python API'}\n",
    "\n",
    "# Call the save() with web map item's properties.\n",
    "map2.save(item_properties=web_map_properties)"
   ]
  },
  {
   "cell_type": "code",
   "execution_count": null,
   "metadata": {},
   "outputs": [],
   "source": [
    "create_wm_from_list(fc_list, disaster_type)"
   ]
  },
  {
   "cell_type": "code",
   "execution_count": 38,
   "metadata": {
    "scrolled": true
   },
   "outputs": [
    {
     "name": "stdout",
     "output_type": "stream",
     "text": [
      "Tropical Cyclone Joaninha https://eonet.sci.gsfc.nasa.gov/api/v2.1/events/EONET_4153 ... Added\n",
      "Tropical Cyclone Veronica https://eonet.sci.gsfc.nasa.gov/api/v2.1/events/EONET_4151 ... Added\n",
      "Wildfires - Paredones, Chile https://eonet.sci.gsfc.nasa.gov/api/v2.1/events/EONET_4154 ... Added\n",
      "Wildfires - Southern Switzerland https://eonet.sci.gsfc.nasa.gov/api/v2.1/events/EONET_4149 ... Added\n",
      "Wildfires - Northwestern South Africa https://eonet.sci.gsfc.nasa.gov/api/v2.1/events/EONET_4150 ... Added\n",
      "Wildfires - Traiguén, Chile  https://eonet.sci.gsfc.nasa.gov/api/v2.1/events/EONET_4118 ... Added\n",
      "Wildfires - Sierra Nevada de Santa Marta, Colombia https://eonet.sci.gsfc.nasa.gov/api/v2.1/events/EONET_4114 ... Added\n",
      "Wildfires - Southeastern Victoria, Australia https://eonet.sci.gsfc.nasa.gov/api/v2.1/events/EONET_4113 ... Added\n",
      "Wildfires - Western Basque Country, Cantabria and Asturias, Spain  https://eonet.sci.gsfc.nasa.gov/api/v2.1/events/EONET_4112 ... Added\n",
      "Wildfires - Ercilla and Collipulli, Chile https://eonet.sci.gsfc.nasa.gov/api/v2.1/events/EONET_4108 ... Added\n",
      "Wildfires - Esperance, Western Australia https://eonet.sci.gsfc.nasa.gov/api/v2.1/events/EONET_4107 ... Added\n",
      "Wildfires - Slovenia https://eonet.sci.gsfc.nasa.gov/api/v2.1/events/EONET_4106 ... Added\n",
      "Wildfires - South Africa https://eonet.sci.gsfc.nasa.gov/api/v2.1/events/EONET_4105 ... Added\n",
      "Wildfires - Saddleworth Moor, United Kingdom  https://eonet.sci.gsfc.nasa.gov/api/v2.1/events/EONET_4103 ... Added\n",
      "Wildfires - Corsica, France  https://eonet.sci.gsfc.nasa.gov/api/v2.1/events/EONET_4101 ... Added\n",
      "Wildfires - Southern Switzerland https://eonet.sci.gsfc.nasa.gov/api/v2.1/events/EONET_4094 ... Added\n",
      "Wildfires - Galvarino, Chile https://eonet.sci.gsfc.nasa.gov/api/v2.1/events/EONET_4090 ... Added\n",
      "Wildfires - Nelson - Tasman, New Zealand https://eonet.sci.gsfc.nasa.gov/api/v2.1/events/EONET_4086 ... Added\n",
      "Wildfires - Southwestern, South Africa  https://eonet.sci.gsfc.nasa.gov/api/v2.1/events/EONET_4087 ... Added\n",
      "Wildfires - Southern Chile https://eonet.sci.gsfc.nasa.gov/api/v2.1/events/EONET_4081 ... Added\n"
     ]
    },
    {
     "data": {
      "text/html": [
       "<div class=\"item_container\" style=\"height: auto; overflow: hidden; border: 1px solid #cfcfcf; border-radius: 2px; background: #f6fafa; line-height: 1.21429em; padding: 10px;\">\n",
       "                    <div class=\"item_left\" style=\"width: 210px; float: left;\">\n",
       "                       <a href='https://datascienceqa.esri.com/portal/home/item.html?id=0564444477744b88978b67937b315987' target='_blank'>\n",
       "                        <img src='https://datascienceqa.esri.com/portal/portalimages/desktopapp.png' class=\"itemThumbnail\">\n",
       "                       </a>\n",
       "                    </div>\n",
       "\n",
       "                    <div class=\"item_right\"     style=\"float: none; width: auto; overflow: hidden;\">\n",
       "                        <a href='https://datascienceqa.esri.com/portal/home/item.html?id=0564444477744b88978b67937b315987' target='_blank'><b>Natural Disasters Feature Service Collection</b>\n",
       "                        </a>\n",
       "                        <br/>This web map contains multiple Wildfires FC<img src='https://datascienceqa.esri.com/portal/home/js/jsapi/esri/css/images/item_type_icons/maps16.png' style=\"vertical-align:middle;\">Web Map by portaladmin\n",
       "                        <br/>Last Modified: March 28, 2019\n",
       "                        <br/>0 comments, 0 views\n",
       "                    </div>\n",
       "                </div>\n",
       "                "
      ],
      "text/plain": [
       "<Item title:\"Natural Disasters Feature Service Collection\" type:Web Map owner:portaladmin>"
      ]
     },
     "execution_count": 38,
     "metadata": {},
     "output_type": "execute_result"
    }
   ],
   "source": [
    "map3 = gis.map('USA')\n",
    "\n",
    "disasters = [\"Tropical Cyclone\",\"Wildfires\"] #\"Volcano\"\n",
    "wm3 = None\n",
    "\n",
    "for disaster_type in disasters:\n",
    "    fc_list = create_all_fs_from_json(\"https://eonet.sci.gsfc.nasa.gov/api/v2.1/events\", disaster_type, map3, False)\n",
    "    # wm3 = create_wm_from_list(fc_list, disaster_type, wm3)\n",
    "\n",
    "web_map_properties = {'title': \"Natural Disasters Feature Service Collection\",\n",
    "                      'snippet':'This web map contains multiple '+ disaster_type + ' FC',\n",
    "                      'tags':'ArcGIS Python API'}\n",
    "\n",
    "# Call the save() with web map item's properties.\n",
    "map3.save(item_properties=web_map_properties)"
   ]
  },
  {
   "cell_type": "code",
   "execution_count": null,
   "metadata": {},
   "outputs": [],
   "source": [
    "wm3"
   ]
  },
  {
   "cell_type": "code",
   "execution_count": null,
   "metadata": {},
   "outputs": [],
   "source": [
    "map3"
   ]
  },
  {
   "cell_type": "markdown",
   "metadata": {},
   "source": [
    "### Use the cells below for debugging purposes"
   ]
  },
  {
   "cell_type": "code",
   "execution_count": null,
   "metadata": {},
   "outputs": [],
   "source": [
    "response = requests.get(\"https://eonet.sci.gsfc.nasa.gov/api/v2.1/events/EONET_4154\")\n",
    "json_event = json.loads(response.text)\n",
    "print(json_event[\"title\"])\n",
    "print(json_event[\"geometries\"])"
   ]
  },
  {
   "cell_type": "code",
   "execution_count": null,
   "metadata": {},
   "outputs": [],
   "source": [
    "import pandas as pd\n",
    "r = json.dumps(json_event[\"geometries\"])\n",
    "df = pd.read_json(r, orient=\",\")"
   ]
  },
  {
   "cell_type": "code",
   "execution_count": null,
   "metadata": {},
   "outputs": [],
   "source": [
    "df.head()"
   ]
  },
  {
   "cell_type": "code",
   "execution_count": null,
   "metadata": {},
   "outputs": [],
   "source": [
    "df.dtypes"
   ]
  },
  {
   "cell_type": "code",
   "execution_count": null,
   "metadata": {},
   "outputs": [],
   "source": [
    "df[['coordinates_x', 'coordinates_y']] = pd.DataFrame(df['coordinates'].tolist(), index=df.index)"
   ]
  },
  {
   "cell_type": "code",
   "execution_count": null,
   "metadata": {},
   "outputs": [],
   "source": [
    "df.head()"
   ]
  },
  {
   "cell_type": "code",
   "execution_count": null,
   "metadata": {},
   "outputs": [],
   "source": [
    "# portal_gis = GIS('https://datascienceqa.esri.com/portal', 'portaladmin', 'esri.agp', verify_cert=False)"
   ]
  },
  {
   "cell_type": "code",
   "execution_count": null,
   "metadata": {},
   "outputs": [],
   "source": [
    "fc = gis.content.import_data(df, locationtype=\"coordinates\",\n",
    "                                    longitude_field=\"coordinates_x\",latitude_field=\"coordinates_y\")"
   ]
  },
  {
   "cell_type": "code",
   "execution_count": null,
   "metadata": {},
   "outputs": [],
   "source": [
    "map1 = gis.map('USA')\n",
    "map1"
   ]
  },
  {
   "cell_type": "code",
   "execution_count": null,
   "metadata": {},
   "outputs": [],
   "source": [
    "renderer_var = {  \"renderer\": \"autocast\", #This tells python to use JS autocasting\n",
    "                  \"type\": \"simple\",  # JS type of new SimpleRenderer()\n",
    "                  \"symbol\": {\n",
    "                    \"type\": \"point\",  #JS type of new PointSymbol3D()\n",
    "                    \"symbolLayers\": [{  \n",
    "                      \"type\": \"object\",  #JS type of new ObjectSymbol3DLayer()\n",
    "                      \"resource\": { \"primitive\": \"sphere\" },\n",
    "                      \"color\": \"red\",\n",
    "                      \"width\": 50000\n",
    "                    }]\n",
    "                  }\n",
    "               }\n",
    "\n",
    "map1.add_layer(fc, renderer_var)"
   ]
  },
  {
   "cell_type": "code",
   "execution_count": null,
   "metadata": {},
   "outputs": [],
   "source": [
    "item_properties = {\n",
    "    \"title\": json_event[\"title\"],\n",
    "    \"tags\" : \"Wildfires\",\n",
    "    \"snippet\": json_event[\"categories\"],\n",
    "    \"description\": json_event[\"sources\"],\n",
    "    \"text\": json.dumps({\"featureCollection\": {\"layers\": [dict(fc.layer)]}}),\n",
    "    \"type\": \"Feature Collection\",\n",
    "    \"typeKeywords\": \"Data, Feature Collection, Singlelayer\"\n",
    "}\n",
    "# item = portal_gis.content.add(item_properties)"
   ]
  },
  {
   "cell_type": "code",
   "execution_count": null,
   "metadata": {},
   "outputs": [],
   "source": [
    "map1.save(item_properties)"
   ]
  },
  {
   "cell_type": "code",
   "execution_count": null,
   "metadata": {},
   "outputs": [],
   "source": [
    "wm = WebMap()\n",
    "\n",
    "wm.add_layer(fc)\n",
    "\n",
    "web_map_properties = {'title':disaster_type + \" WM\",\n",
    "                     'snippet':'This web map contains multiple '+ disaster_type + ' FS',\n",
    "                     'tags':'ArcGIS Python API'}\n",
    "\n",
    "# Call the save() with web map item's properties.\n",
    "web_map_item = wm.save(item_properties=web_map_properties)"
   ]
  },
  {
   "cell_type": "code",
   "execution_count": null,
   "metadata": {},
   "outputs": [],
   "source": [
    "web_map_item"
   ]
  }
 ],
 "metadata": {
  "kernelspec": {
   "display_name": "Python 3",
   "language": "python",
   "name": "python3"
  },
  "language_info": {
   "codemirror_mode": {
    "name": "ipython",
    "version": 3
   },
   "file_extension": ".py",
   "mimetype": "text/x-python",
   "name": "python",
   "nbconvert_exporter": "python",
   "pygments_lexer": "ipython3",
   "version": "3.6.8"
  }
 },
 "nbformat": 4,
 "nbformat_minor": 2
}
